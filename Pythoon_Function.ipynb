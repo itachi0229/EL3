{
  "nbformat": 4,
  "nbformat_minor": 0,
  "metadata": {
    "colab": {
      "name": "Pythoon Function.ipynb",
      "provenance": [],
      "collapsed_sections": [],
      "authorship_tag": "ABX9TyNw6NC/iGh94SvnL+DIYvdC",
      "include_colab_link": true
    },
    "kernelspec": {
      "name": "python3",
      "display_name": "Python 3"
    },
    "language_info": {
      "name": "python"
    }
  },
  "cells": [
    {
      "cell_type": "markdown",
      "metadata": {
        "id": "view-in-github",
        "colab_type": "text"
      },
      "source": [
        "<a href=\"https://colab.research.google.com/github/itachi0229/EL3/blob/main/Pythoon_Function.ipynb\" target=\"_parent\"><img src=\"https://colab.research.google.com/assets/colab-badge.svg\" alt=\"Open In Colab\"/></a>"
      ]
    },
    {
      "cell_type": "markdown",
      "source": [
        "KAREN MACALINO"
      ],
      "metadata": {
        "id": "GzkzHJOv94mo"
      }
    },
    {
      "cell_type": "markdown",
      "source": [
        "Print function"
      ],
      "metadata": {
        "id": "jJFxvlkmHpYP"
      }
    },
    {
      "cell_type": "code",
      "source": [
        "print ('Hello World!')"
      ],
      "metadata": {
        "colab": {
          "base_uri": "https://localhost:8080/"
        },
        "id": "GOnrr8ib-qv7",
        "outputId": "79b5bcc7-82c6-40b9-dfc0-8dbc0d76e78a"
      },
      "execution_count": null,
      "outputs": [
        {
          "output_type": "stream",
          "name": "stdout",
          "text": [
            "Hello World!\n"
          ]
        }
      ]
    },
    {
      "cell_type": "code",
      "source": [
        "print(type('Hello World'))"
      ],
      "metadata": {
        "colab": {
          "base_uri": "https://localhost:8080/"
        },
        "id": "d8MwBGmkCNER",
        "outputId": "ffa7aa5c-497f-4b92-e824-1c56d3a34434"
      },
      "execution_count": null,
      "outputs": [
        {
          "output_type": "stream",
          "name": "stdout",
          "text": [
            "<class 'str'>\n"
          ]
        }
      ]
    },
    {
      "cell_type": "markdown",
      "source": [
        "Strings"
      ],
      "metadata": {
        "id": "1W6nyt15H1d9"
      }
    },
    {
      "cell_type": "code",
      "source": [
        "# Single quotes\n",
        "print('Hello World!')"
      ],
      "metadata": {
        "colab": {
          "base_uri": "https://localhost:8080/"
        },
        "id": "3AiffiX9DnUG",
        "outputId": "3ff7f845-896a-4efa-827a-d23602f51e6c"
      },
      "execution_count": null,
      "outputs": [
        {
          "output_type": "stream",
          "name": "stdout",
          "text": [
            "Hello World!\n"
          ]
        }
      ]
    },
    {
      "cell_type": "code",
      "source": [
        "# Double quotes\n",
        "print(\"Hello World!\")"
      ],
      "metadata": {
        "colab": {
          "base_uri": "https://localhost:8080/"
        },
        "id": "lsOUuaxSIO0F",
        "outputId": "9cae53b9-da7d-4b91-bd7c-cba4fe6cd168"
      },
      "execution_count": null,
      "outputs": [
        {
          "output_type": "stream",
          "name": "stdout",
          "text": [
            "Hello World!\n"
          ]
        }
      ]
    },
    {
      "cell_type": "markdown",
      "source": [
        "Creating a Variable"
      ],
      "metadata": {
        "id": "RaGMVsKjIjzt"
      }
    },
    {
      "cell_type": "code",
      "source": [
        "# Assign string \"Karen\" to variable name\n",
        "name = \"Karen\"\n",
        "\n",
        "# Print variable name\n",
        "print (name)"
      ],
      "metadata": {
        "colab": {
          "base_uri": "https://localhost:8080/"
        },
        "id": "80PZ7889EQJL",
        "outputId": "a0a4dc98-e2d7-4202-efb9-ff004c758603"
      },
      "execution_count": null,
      "outputs": [
        {
          "output_type": "stream",
          "name": "stdout",
          "text": [
            "Karen\n"
          ]
        }
      ]
    },
    {
      "cell_type": "markdown",
      "source": [
        "String Methods"
      ],
      "metadata": {
        "id": "c-AMxlt7IofU"
      }
    },
    {
      "cell_type": "code",
      "source": [
        "# Multiple line string\n",
        "popularLyric = \"\"\"Blackbird singing in the dead of night \n",
        "Take these broken wings and lean to fly\n",
        "All your life\n",
        "You were only waiting for this moment to arise\"\"\""
      ],
      "metadata": {
        "id": "5xFjf-yhEi5x"
      },
      "execution_count": null,
      "outputs": []
    },
    {
      "cell_type": "code",
      "source": [
        "print(popularLyric.lower())"
      ],
      "metadata": {
        "colab": {
          "base_uri": "https://localhost:8080/"
        },
        "id": "tSDsfvIZF0Nh",
        "outputId": "2a423e7a-c74d-401d-f932-5c278d8f1d7e"
      },
      "execution_count": null,
      "outputs": [
        {
          "output_type": "stream",
          "name": "stdout",
          "text": [
            "blackbird singing in the dead of night \n",
            "take these broken wings and lean to fly\n",
            "all your life\n",
            "you were only waiting for this moment to arise\n"
          ]
        }
      ]
    },
    {
      "cell_type": "code",
      "source": [
        "print(popularLyric.upper())"
      ],
      "metadata": {
        "colab": {
          "base_uri": "https://localhost:8080/"
        },
        "id": "h_AubGQ1Gz96",
        "outputId": "a61e0c7c-32b7-402e-8c71-ed1d7c66f416"
      },
      "execution_count": null,
      "outputs": [
        {
          "output_type": "stream",
          "name": "stdout",
          "text": [
            "BLACKBIRD SINGING IN THE DEAD OF NIGHT \n",
            "TAKE THESE BROKEN WINGS AND LEAN TO FLY\n",
            "ALL YOUR LIFE\n",
            "YOU WERE ONLY WAITING FOR THIS MOMENT TO ARISE\n"
          ]
        }
      ]
    },
    {
      "cell_type": "code",
      "source": [
        "print(popularLyric.title())"
      ],
      "metadata": {
        "colab": {
          "base_uri": "https://localhost:8080/"
        },
        "id": "5v2hqSGSHDUP",
        "outputId": "b095a645-e1f0-4a40-f06c-46311c28cbd6"
      },
      "execution_count": null,
      "outputs": [
        {
          "output_type": "stream",
          "name": "stdout",
          "text": [
            "Blackbird Singing In The Dead Of Night \n",
            "Take These Broken Wings And Lean To Fly\n",
            "All Your Life\n",
            "You Were Only Waiting For This Moment To Arise\n"
          ]
        }
      ]
    },
    {
      "cell_type": "code",
      "source": [
        "help(popularLyric.upper)"
      ],
      "metadata": {
        "colab": {
          "base_uri": "https://localhost:8080/"
        },
        "id": "I6lmYc8wHHUL",
        "outputId": "20cc87f6-0022-453d-d47a-6b4773293bd2"
      },
      "execution_count": null,
      "outputs": [
        {
          "output_type": "stream",
          "name": "stdout",
          "text": [
            "Help on built-in function upper:\n",
            "\n",
            "upper() method of builtins.str instance\n",
            "    Return a copy of the string converted to uppercase.\n",
            "\n"
          ]
        }
      ]
    },
    {
      "cell_type": "markdown",
      "source": [
        "Simple Math"
      ],
      "metadata": {
        "id": "LOVue2mRI6fH"
      }
    },
    {
      "cell_type": "code",
      "source": [
        "1+1"
      ],
      "metadata": {
        "colab": {
          "base_uri": "https://localhost:8080/"
        },
        "id": "uKn5ZgsdHKfH",
        "outputId": "b24a161e-6986-47a5-fffa-bea584497b1c"
      },
      "execution_count": null,
      "outputs": [
        {
          "output_type": "execute_result",
          "data": {
            "text/plain": [
              "2"
            ]
          },
          "metadata": {},
          "execution_count": 16
        }
      ]
    },
    {
      "cell_type": "code",
      "source": [
        "129/2"
      ],
      "metadata": {
        "colab": {
          "base_uri": "https://localhost:8080/"
        },
        "id": "RUTkcoUoJA97",
        "outputId": "604e17b1-95ea-43c1-d710-bb6f10f888f1"
      },
      "execution_count": null,
      "outputs": [
        {
          "output_type": "execute_result",
          "data": {
            "text/plain": [
              "64.5"
            ]
          },
          "metadata": {},
          "execution_count": 17
        }
      ]
    },
    {
      "cell_type": "code",
      "source": [
        "2**4"
      ],
      "metadata": {
        "colab": {
          "base_uri": "https://localhost:8080/"
        },
        "id": "-JAhC71aJEN1",
        "outputId": "add488b1-848f-4665-885a-d0f0c6cdfe66"
      },
      "execution_count": null,
      "outputs": [
        {
          "output_type": "execute_result",
          "data": {
            "text/plain": [
              "16"
            ]
          },
          "metadata": {},
          "execution_count": 18
        }
      ]
    },
    {
      "cell_type": "code",
      "source": [
        "2*3"
      ],
      "metadata": {
        "colab": {
          "base_uri": "https://localhost:8080/"
        },
        "id": "GPJCZxvnJHIO",
        "outputId": "ae1df892-18cb-46ef-c19c-b2d8f85ccba8"
      },
      "execution_count": null,
      "outputs": [
        {
          "output_type": "execute_result",
          "data": {
            "text/plain": [
              "6"
            ]
          },
          "metadata": {},
          "execution_count": 19
        }
      ]
    },
    {
      "cell_type": "code",
      "source": [
        "20%3"
      ],
      "metadata": {
        "colab": {
          "base_uri": "https://localhost:8080/"
        },
        "id": "8D3ezP1iJNA2",
        "outputId": "d5284493-fb9d-473c-a50b-65b588742b3c"
      },
      "execution_count": null,
      "outputs": [
        {
          "output_type": "execute_result",
          "data": {
            "text/plain": [
              "2"
            ]
          },
          "metadata": {},
          "execution_count": 20
        }
      ]
    },
    {
      "cell_type": "markdown",
      "source": [
        "Order of Operations"
      ],
      "metadata": {
        "id": "jmO0UWwXJUQX"
      }
    },
    {
      "cell_type": "code",
      "source": [
        "(1+4)/2"
      ],
      "metadata": {
        "colab": {
          "base_uri": "https://localhost:8080/"
        },
        "id": "ANhswR1HJQy8",
        "outputId": "60fd2629-397f-4fe9-db8c-7ee1d5e9cc52"
      },
      "execution_count": null,
      "outputs": [
        {
          "output_type": "execute_result",
          "data": {
            "text/plain": [
              "2.5"
            ]
          },
          "metadata": {},
          "execution_count": 21
        }
      ]
    },
    {
      "cell_type": "code",
      "source": [
        ""
      ],
      "metadata": {
        "id": "R6-Y3VkXJa77"
      },
      "execution_count": null,
      "outputs": []
    },
    {
      "cell_type": "markdown",
      "source": [
        "Booleans"
      ],
      "metadata": {
        "id": "2cWj95ErJhAX"
      }
    },
    {
      "cell_type": "code",
      "source": [
        "1+1"
      ],
      "metadata": {
        "colab": {
          "base_uri": "https://localhost:8080/"
        },
        "id": "q4ECfpK7JiMm",
        "outputId": "76761eb0-e31d-494f-f347-6dcf453e9e5e"
      },
      "execution_count": null,
      "outputs": [
        {
          "output_type": "execute_result",
          "data": {
            "text/plain": [
              "2"
            ]
          },
          "metadata": {},
          "execution_count": 22
        }
      ]
    },
    {
      "cell_type": "code",
      "source": [
        "True + True"
      ],
      "metadata": {
        "colab": {
          "base_uri": "https://localhost:8080/"
        },
        "id": "NxBKsMYxJkPq",
        "outputId": "c6c55b0b-df43-479d-e8fa-406a9ecfeba8"
      },
      "execution_count": null,
      "outputs": [
        {
          "output_type": "execute_result",
          "data": {
            "text/plain": [
              "2"
            ]
          },
          "metadata": {},
          "execution_count": 26
        }
      ]
    },
    {
      "cell_type": "markdown",
      "source": [
        "Conditional logic"
      ],
      "metadata": {
        "id": "UFfiDqydJ0RH"
      }
    },
    {
      "cell_type": "code",
      "source": [
        "(1+1) == (True + True)"
      ],
      "metadata": {
        "colab": {
          "base_uri": "https://localhost:8080/"
        },
        "id": "PmTtSyAGJnac",
        "outputId": "95636598-659e-41ea-afb6-9150354b1d2f"
      },
      "execution_count": null,
      "outputs": [
        {
          "output_type": "execute_result",
          "data": {
            "text/plain": [
              "True"
            ]
          },
          "metadata": {},
          "execution_count": 27
        }
      ]
    },
    {
      "cell_type": "markdown",
      "source": [
        "if statement"
      ],
      "metadata": {
        "id": "G_hwtUkOKLsS"
      }
    },
    {
      "cell_type": "code",
      "source": [
        "num = 3;\n",
        "if num ==3:\n",
        "  print(num)"
      ],
      "metadata": {
        "colab": {
          "base_uri": "https://localhost:8080/"
        },
        "id": "wAPAdbf4J8An",
        "outputId": "559f5741-95e4-44ee-894a-902608e9e566"
      },
      "execution_count": null,
      "outputs": [
        {
          "output_type": "stream",
          "name": "stdout",
          "text": [
            "3\n"
          ]
        }
      ]
    },
    {
      "cell_type": "code",
      "source": [
        "num = 3\n",
        "if num > 10:\n",
        "  print(num)"
      ],
      "metadata": {
        "id": "BX-lEpvEKh1o"
      },
      "execution_count": null,
      "outputs": []
    },
    {
      "cell_type": "code",
      "source": [
        "num = 3\n",
        "if num % 3 ==0:\n",
        "  print(\"Fizz\")"
      ],
      "metadata": {
        "colab": {
          "base_uri": "https://localhost:8080/"
        },
        "id": "uLEwKscvKudz",
        "outputId": "3f2afa74-6e08-4bad-b33c-43ab83749b34"
      },
      "execution_count": null,
      "outputs": [
        {
          "output_type": "stream",
          "name": "stdout",
          "text": [
            "Fizz\n"
          ]
        }
      ]
    },
    {
      "cell_type": "code",
      "source": [
        "num = 10\n",
        "if num % 5==0:\n",
        "  print(\"Buzz\")"
      ],
      "metadata": {
        "colab": {
          "base_uri": "https://localhost:8080/"
        },
        "id": "yF17xvuDK5IJ",
        "outputId": "30a6053f-33c0-4f91-a12b-c29fc7481bed"
      },
      "execution_count": null,
      "outputs": [
        {
          "output_type": "stream",
          "name": "stdout",
          "text": [
            "Buzz\n"
          ]
        }
      ]
    },
    {
      "cell_type": "markdown",
      "source": [
        "Logical Operators"
      ],
      "metadata": {
        "id": "JGXXjrJELqi9"
      }
    },
    {
      "cell_type": "code",
      "source": [
        "num = 4\n",
        "print(num>0 and num < 15)"
      ],
      "metadata": {
        "colab": {
          "base_uri": "https://localhost:8080/"
        },
        "id": "ihLQDqCmLLmi",
        "outputId": "0e34bc5c-f700-4b27-d928-9c50a930cfc2"
      },
      "execution_count": null,
      "outputs": [
        {
          "output_type": "stream",
          "name": "stdout",
          "text": [
            "True\n"
          ]
        }
      ]
    },
    {
      "cell_type": "code",
      "source": [
        "if num > 0 and num < 15:\n",
        "  print(num)"
      ],
      "metadata": {
        "colab": {
          "base_uri": "https://localhost:8080/"
        },
        "id": "t35uWqS6LzZM",
        "outputId": "a7ea5417-7c51-4872-c1ad-1023576c4576"
      },
      "execution_count": null,
      "outputs": [
        {
          "output_type": "stream",
          "name": "stdout",
          "text": [
            "4\n"
          ]
        }
      ]
    },
    {
      "cell_type": "code",
      "source": [
        "num= 4\n",
        "num> 0 or num > 15"
      ],
      "metadata": {
        "colab": {
          "base_uri": "https://localhost:8080/"
        },
        "id": "PSqNJWZNL_BT",
        "outputId": "f847e01e-cb7b-4673-813f-bd57b2ca38ef"
      },
      "execution_count": null,
      "outputs": [
        {
          "output_type": "execute_result",
          "data": {
            "text/plain": [
              "True"
            ]
          },
          "metadata": {},
          "execution_count": 38
        }
      ]
    },
    {
      "cell_type": "code",
      "source": [
        "if False or False:\n",
        "  print('Nothing will print out')"
      ],
      "metadata": {
        "id": "v9cL3VHSMNzK"
      },
      "execution_count": null,
      "outputs": []
    },
    {
      "cell_type": "markdown",
      "source": [
        "else statement"
      ],
      "metadata": {
        "id": "UhxuVDZbRopT"
      }
    },
    {
      "cell_type": "code",
      "source": [
        "num = 4\n",
        "if num>3:\n",
        "  print(\"Hi\")\n",
        "else:\n",
        "  print(\"number is not greater than 3\")"
      ],
      "metadata": {
        "colab": {
          "base_uri": "https://localhost:8080/"
        },
        "id": "Wcop8trARq4X",
        "outputId": "13499041-6820-4a93-9b77-9071bfae176f"
      },
      "execution_count": null,
      "outputs": [
        {
          "output_type": "stream",
          "name": "stdout",
          "text": [
            "Hi\n"
          ]
        }
      ]
    },
    {
      "cell_type": "code",
      "source": [
        "num=4\n",
        "if num>=5:\n",
        "  print('hi')\n",
        "else:\n",
        "  print('Hi Class!!!')"
      ],
      "metadata": {
        "colab": {
          "base_uri": "https://localhost:8080/"
        },
        "id": "acKnsJTwR606",
        "outputId": "900fd6dd-9acb-4796-e5a1-ba90a510edb1"
      },
      "execution_count": null,
      "outputs": [
        {
          "output_type": "stream",
          "name": "stdout",
          "text": [
            "Hi Class!!!\n"
          ]
        }
      ]
    },
    {
      "cell_type": "code",
      "source": [
        "num = 19\n",
        "if num > 50:\n",
        "  print('num is larger than 50')\n",
        "elif num== 21:\n",
        "  print('num = 21')\n",
        "else:\n",
        "  print('Catchall Condition')"
      ],
      "metadata": {
        "colab": {
          "base_uri": "https://localhost:8080/"
        },
        "id": "AvFkoJdCSGbr",
        "outputId": "b5857aa0-126d-48d8-89f0-7d7f6ead6379"
      },
      "execution_count": null,
      "outputs": [
        {
          "output_type": "stream",
          "name": "stdout",
          "text": [
            "Catchall Condition\n"
          ]
        }
      ]
    },
    {
      "cell_type": "markdown",
      "source": [
        "FizzBuzz"
      ],
      "metadata": {
        "id": "dE0ZHBv0Pm7a"
      }
    },
    {
      "cell_type": "code",
      "source": [
        "num = 3\n",
        "if num% 3 == 0 and num % 5 == 0:\n",
        "  print('FizzBuzz')\n",
        "elif num% 3 == 0:\n",
        "    print('Fizz')\n",
        "elif num % 5 == 0:\n",
        "      print('Buzz')\n",
        "else:\n",
        "      print(num)"
      ],
      "metadata": {
        "colab": {
          "base_uri": "https://localhost:8080/"
        },
        "id": "MTe9ABiHMfHj",
        "outputId": "9068d040-c4b5-4ea4-cedb-fb6b0ee32979"
      },
      "execution_count": null,
      "outputs": [
        {
          "output_type": "stream",
          "name": "stdout",
          "text": [
            "Fizz\n"
          ]
        }
      ]
    },
    {
      "cell_type": "code",
      "source": [
        "string = \"\"\n",
        "if num % 3==0:\n",
        "  string = string + \"Fizz\"\n",
        "if num % 5 == 0:\n",
        "  string = string +\"Buzz\"\n",
        "if num % 5 !=0 and num % 3 !=0:\n",
        "  string =string +str(num)\n",
        "  print(string) "
      ],
      "metadata": {
        "colab": {
          "base_uri": "https://localhost:8080/"
        },
        "id": "h427facRM1Yr",
        "outputId": "af169da9-601f-45bc-eee4-794684b64bf2"
      },
      "execution_count": null,
      "outputs": [
        {
          "output_type": "stream",
          "name": "stdout",
          "text": [
            "19\n"
          ]
        }
      ]
    },
    {
      "cell_type": "code",
      "source": [
        ""
      ],
      "metadata": {
        "id": "Kovb9KDJTzYy"
      },
      "execution_count": null,
      "outputs": []
    },
    {
      "cell_type": "markdown",
      "source": [
        "List"
      ],
      "metadata": {
        "id": "EE1uSNFojkGf"
      }
    },
    {
      "cell_type": "code",
      "source": [
        "z=[3,7,4,2]"
      ],
      "metadata": {
        "id": "JRmaX-9ojkz7"
      },
      "execution_count": null,
      "outputs": []
    },
    {
      "cell_type": "code",
      "source": [
        "heterogenousElements = [3, True, 'Karen',2.0]"
      ],
      "metadata": {
        "id": "_w8KXtsFjsX_"
      },
      "execution_count": null,
      "outputs": []
    },
    {
      "cell_type": "code",
      "source": [
        "z[0]"
      ],
      "metadata": {
        "colab": {
          "base_uri": "https://localhost:8080/"
        },
        "id": "8vgMU0WGj8gF",
        "outputId": "2e03402d-b7c8-4588-806d-a3191f04b17d"
      },
      "execution_count": null,
      "outputs": [
        {
          "output_type": "execute_result",
          "data": {
            "text/plain": [
              "3"
            ]
          },
          "metadata": {},
          "execution_count": 3
        }
      ]
    },
    {
      "cell_type": "code",
      "source": [
        "z[-1]"
      ],
      "metadata": {
        "colab": {
          "base_uri": "https://localhost:8080/"
        },
        "id": "R80qlRCnkBSf",
        "outputId": "b923c111-1dee-4eaf-9262-6172ee775e76"
      },
      "execution_count": null,
      "outputs": [
        {
          "output_type": "execute_result",
          "data": {
            "text/plain": [
              "2"
            ]
          },
          "metadata": {},
          "execution_count": 4
        }
      ]
    },
    {
      "cell_type": "code",
      "source": [
        "print(z[0:2])"
      ],
      "metadata": {
        "colab": {
          "base_uri": "https://localhost:8080/"
        },
        "id": "UpIV4CKNkGyH",
        "outputId": "95ea91d3-682b-458d-a0d2-8c91618b36bc"
      },
      "execution_count": null,
      "outputs": [
        {
          "output_type": "stream",
          "name": "stdout",
          "text": [
            "[3, 7]\n"
          ]
        }
      ]
    },
    {
      "cell_type": "code",
      "source": [
        "z[-3]"
      ],
      "metadata": {
        "colab": {
          "base_uri": "https://localhost:8080/"
        },
        "id": "QyO5UwYCkN1v",
        "outputId": "aee36073-e48f-47d7-ee92-8cfe6037e2f7"
      },
      "execution_count": null,
      "outputs": [
        {
          "output_type": "execute_result",
          "data": {
            "text/plain": [
              "7"
            ]
          },
          "metadata": {},
          "execution_count": 6
        }
      ]
    },
    {
      "cell_type": "code",
      "source": [
        "z[1:]"
      ],
      "metadata": {
        "colab": {
          "base_uri": "https://localhost:8080/"
        },
        "id": "sSonrZAkkRtL",
        "outputId": "f2e60def-ef83-46ac-e263-411a1301d12d"
      },
      "execution_count": null,
      "outputs": [
        {
          "output_type": "execute_result",
          "data": {
            "text/plain": [
              "[7, 4, 2]"
            ]
          },
          "metadata": {},
          "execution_count": 7
        }
      ]
    },
    {
      "cell_type": "code",
      "source": [
        "z = [3,7,4,2]"
      ],
      "metadata": {
        "id": "zUPfQtMikg6Z"
      },
      "execution_count": null,
      "outputs": []
    },
    {
      "cell_type": "code",
      "source": [
        "z[1] = \"fish\"\n",
        "print(z)"
      ],
      "metadata": {
        "colab": {
          "base_uri": "https://localhost:8080/"
        },
        "id": "VKIvol9lkl8u",
        "outputId": "4eb8114e-a9d9-4163-ba3a-b98854f0524a"
      },
      "execution_count": null,
      "outputs": [
        {
          "output_type": "stream",
          "name": "stdout",
          "text": [
            "[3, 'fish', 4, 2]\n"
          ]
        }
      ]
    },
    {
      "cell_type": "code",
      "source": [
        "z = [4,1,5,4,10,4]"
      ],
      "metadata": {
        "id": "NW4CycBEktnf"
      },
      "execution_count": null,
      "outputs": []
    },
    {
      "cell_type": "code",
      "source": [
        "z.index(4)"
      ],
      "metadata": {
        "colab": {
          "base_uri": "https://localhost:8080/"
        },
        "id": "1yQg5_tzk0pM",
        "outputId": "436596a2-1999-4b55-a8c4-9776c105c947"
      },
      "execution_count": null,
      "outputs": [
        {
          "output_type": "execute_result",
          "data": {
            "text/plain": [
              "0"
            ]
          },
          "metadata": {},
          "execution_count": 11
        }
      ]
    },
    {
      "cell_type": "code",
      "source": [
        "z.index(4,2)"
      ],
      "metadata": {
        "colab": {
          "base_uri": "https://localhost:8080/"
        },
        "id": "sHQ3Vc5Bk305",
        "outputId": "f37fe05a-e29d-4397-b4ca-3f4b273684b5"
      },
      "execution_count": null,
      "outputs": [
        {
          "output_type": "execute_result",
          "data": {
            "text/plain": [
              "3"
            ]
          },
          "metadata": {},
          "execution_count": 12
        }
      ]
    },
    {
      "cell_type": "code",
      "source": [
        "z= [3,7,4,2]\n",
        "z.sort()"
      ],
      "metadata": {
        "id": "lkMmbOf_k7Ar"
      },
      "execution_count": null,
      "outputs": []
    },
    {
      "cell_type": "code",
      "source": [
        "z =[7,4,3,2]\n",
        "z.append(3)\n",
        "print(z)"
      ],
      "metadata": {
        "colab": {
          "base_uri": "https://localhost:8080/"
        },
        "id": "wOq3YMo0lG30",
        "outputId": "646cf054-c675-4c89-95ff-c8d36e0cf3cd"
      },
      "execution_count": null,
      "outputs": [
        {
          "output_type": "stream",
          "name": "stdout",
          "text": [
            "[7, 4, 3, 2, 3]\n"
          ]
        }
      ]
    },
    {
      "cell_type": "code",
      "source": [
        "z = [7,4,3,2,3]\n",
        "z.remove(2)"
      ],
      "metadata": {
        "id": "XwaL005AlpBx"
      },
      "execution_count": null,
      "outputs": []
    },
    {
      "cell_type": "code",
      "source": [
        "z = [7,4,3,3]\n",
        "print(z.pop(1))\n",
        "print(z)"
      ],
      "metadata": {
        "colab": {
          "base_uri": "https://localhost:8080/"
        },
        "id": "893F8xRrlyEh",
        "outputId": "e6321e67-122a-46fb-e5e3-a3c42f1fbbd0"
      },
      "execution_count": null,
      "outputs": [
        {
          "output_type": "stream",
          "name": "stdout",
          "text": [
            "4\n",
            "[7, 3, 3]\n"
          ]
        }
      ]
    },
    {
      "cell_type": "code",
      "source": [
        "z=[7,3,3]\n",
        "z.extend([4,5])\n",
        "print(z)"
      ],
      "metadata": {
        "colab": {
          "base_uri": "https://localhost:8080/"
        },
        "id": "c3vT7qGtl6xO",
        "outputId": "14204635-30f1-45df-b0fa-5cf3eb61d4a8"
      },
      "execution_count": null,
      "outputs": [
        {
          "output_type": "stream",
          "name": "stdout",
          "text": [
            "[7, 3, 3, 4, 5]\n"
          ]
        }
      ]
    },
    {
      "cell_type": "code",
      "source": [
        "print([1,2]+[3,4])"
      ],
      "metadata": {
        "colab": {
          "base_uri": "https://localhost:8080/"
        },
        "id": "CinuCdlemCkn",
        "outputId": "b89ca7dd-a7a7-481d-a534-3431179dcb80"
      },
      "execution_count": null,
      "outputs": [
        {
          "output_type": "stream",
          "name": "stdout",
          "text": [
            "[1, 2, 3, 4]\n"
          ]
        }
      ]
    },
    {
      "cell_type": "code",
      "source": [
        "z=[7,3,3,4,5]\n",
        "z.insert(4,[1,2])\n",
        "print(z)"
      ],
      "metadata": {
        "colab": {
          "base_uri": "https://localhost:8080/"
        },
        "id": "cJpA7qnemJ6H",
        "outputId": "32d40be2-9973-45ad-f485-2fb98dc52cd6"
      },
      "execution_count": null,
      "outputs": [
        {
          "output_type": "stream",
          "name": "stdout",
          "text": [
            "[7, 3, 3, 4, [1, 2], 5]\n"
          ]
        }
      ]
    },
    {
      "cell_type": "markdown",
      "source": [
        "Exercise - FizzBuzz"
      ],
      "metadata": {
        "id": "d9UlVdevje94"
      }
    },
    {
      "cell_type": "code",
      "source": [
        "for fizzbuzz in range(21):\n",
        "    if fizzbuzz % 3 == 0 and fizzbuzz % 5 == 0:\n",
        "        print(\"fizzbuzz\")\n",
        "        continue\n",
        "    elif fizzbuzz % 3 == 0:\n",
        "        print(\"fizz\")\n",
        "        continue\n",
        "    elif fizzbuzz % 5 == 0:\n",
        "        print(\"buzz\")\n",
        "        continue\n",
        "    print(fizzbuzz)"
      ],
      "metadata": {
        "id": "lCimOGKXmXbz",
        "colab": {
          "base_uri": "https://localhost:8080/"
        },
        "outputId": "87276840-40c9-46df-a271-8de3ababe44f"
      },
      "execution_count": 2,
      "outputs": [
        {
          "output_type": "stream",
          "name": "stdout",
          "text": [
            "fizzbuzz\n",
            "1\n",
            "2\n",
            "fizz\n",
            "4\n",
            "buzz\n",
            "fizz\n",
            "7\n",
            "8\n",
            "fizz\n",
            "buzz\n",
            "11\n",
            "fizz\n",
            "13\n",
            "14\n",
            "fizzbuzz\n",
            "16\n",
            "17\n",
            "fizz\n",
            "19\n",
            "buzz\n"
          ]
        }
      ]
    }
  ]
}
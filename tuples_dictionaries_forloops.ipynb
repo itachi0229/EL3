{
  "nbformat": 4,
  "nbformat_minor": 0,
  "metadata": {
    "colab": {
      "name": "tuples dictionaries forloops.ipynb",
      "provenance": [],
      "authorship_tag": "ABX9TyNZuH0TEgsvjzU7aaUZgaoo",
      "include_colab_link": true
    },
    "kernelspec": {
      "name": "python3",
      "display_name": "Python 3"
    },
    "language_info": {
      "name": "python"
    }
  },
  "cells": [
    {
      "cell_type": "markdown",
      "metadata": {
        "id": "view-in-github",
        "colab_type": "text"
      },
      "source": [
        "<a href=\"https://colab.research.google.com/github/itachi0229/EL3/blob/main/tuples_dictionaries_forloops.ipynb\" target=\"_parent\"><img src=\"https://colab.research.google.com/assets/colab-badge.svg\" alt=\"Open In Colab\"/></a>"
      ]
    },
    {
      "cell_type": "markdown",
      "source": [
        "KAREN MACALINO"
      ],
      "metadata": {
        "id": "tS8M1Hx-IeKw"
      }
    },
    {
      "cell_type": "markdown",
      "source": [
        "Tuples"
      ],
      "metadata": {
        "id": "xnLpOxy0I_q3"
      }
    },
    {
      "cell_type": "code",
      "source": [
        "emptyTuple = ()\n",
        "print(emptyTuple)\n"
      ],
      "metadata": {
        "colab": {
          "base_uri": "https://localhost:8080/"
        },
        "id": "ar0oaGlmI9Ah",
        "outputId": "b8c0bf50-d5b0-4995-8368-3d96afd3fa5a"
      },
      "execution_count": 3,
      "outputs": [
        {
          "output_type": "stream",
          "name": "stdout",
          "text": [
            "()\n"
          ]
        }
      ]
    },
    {
      "cell_type": "code",
      "source": [
        "emptyTuple = tuple()\n",
        "print(emptyTuple)\n"
      ],
      "metadata": {
        "colab": {
          "base_uri": "https://localhost:8080/"
        },
        "id": "gZLv1kI3JDZF",
        "outputId": "c37ee0f3-e023-4dad-dcd4-bae436820bec"
      },
      "execution_count": 5,
      "outputs": [
        {
          "output_type": "stream",
          "name": "stdout",
          "text": [
            "()\n"
          ]
        }
      ]
    },
    {
      "cell_type": "code",
      "source": [
        "z = (3, 7, 4, 2)\n",
        "print(z)\n",
        "z = 3, 7, 4, 2\n",
        "print(z)"
      ],
      "metadata": {
        "colab": {
          "base_uri": "https://localhost:8080/"
        },
        "id": "CyDF2nTBJHJ1",
        "outputId": "c9483c7b-a9bc-4aa7-ca18-468956c6072d"
      },
      "execution_count": 6,
      "outputs": [
        {
          "output_type": "stream",
          "name": "stdout",
          "text": [
            "(3, 7, 4, 2)\n",
            "(3, 7, 4, 2)\n"
          ]
        }
      ]
    },
    {
      "cell_type": "code",
      "source": [
        "tup1 = ('Michael',)\n",
        "# tuple with one value\n",
        "tup2 = 'Michael', \n",
        "notTuple = ('Michael')\n",
        "print(type(notTuple) )"
      ],
      "metadata": {
        "colab": {
          "base_uri": "https://localhost:8080/"
        },
        "id": "70YaEZogJSPw",
        "outputId": "d5174185-c4f8-469b-f599-4d7836ad2b5d"
      },
      "execution_count": 7,
      "outputs": [
        {
          "output_type": "stream",
          "name": "stdout",
          "text": [
            "<class 'str'>\n"
          ]
        }
      ]
    },
    {
      "cell_type": "code",
      "source": [
        "z = (3, 7, 4, 2)\n",
        "print(z[0])"
      ],
      "metadata": {
        "colab": {
          "base_uri": "https://localhost:8080/"
        },
        "id": "3o-CnSKVJX7V",
        "outputId": "75721f8a-b26f-4e6d-f0a2-f9d04e418387"
      },
      "execution_count": 8,
      "outputs": [
        {
          "output_type": "stream",
          "name": "stdout",
          "text": [
            "3\n"
          ]
        }
      ]
    },
    {
      "cell_type": "code",
      "source": [
        "print(z[-1])"
      ],
      "metadata": {
        "colab": {
          "base_uri": "https://localhost:8080/"
        },
        "id": "gX_6lnHOJd2C",
        "outputId": "7e58d288-7edf-40a9-a024-14d4a7be520a"
      },
      "execution_count": 9,
      "outputs": [
        {
          "output_type": "stream",
          "name": "stdout",
          "text": [
            "2\n"
          ]
        }
      ]
    },
    {
      "cell_type": "code",
      "source": [
        "z = (3, 7, 4, 2)\n",
        "print(z[0:2])"
      ],
      "metadata": {
        "colab": {
          "base_uri": "https://localhost:8080/"
        },
        "id": "X9Q5zczwJgz_",
        "outputId": "33472a7d-02ec-4b09-9a62-b0e7d3bdcd79"
      },
      "execution_count": 10,
      "outputs": [
        {
          "output_type": "stream",
          "name": "stdout",
          "text": [
            "(3, 7)\n"
          ]
        }
      ]
    },
    {
      "cell_type": "code",
      "source": [
        "print(z[:3])"
      ],
      "metadata": {
        "colab": {
          "base_uri": "https://localhost:8080/"
        },
        "id": "af_uszSoJnt3",
        "outputId": "e0befbab-f41f-4c2f-abde-fd4e417da7a3"
      },
      "execution_count": 11,
      "outputs": [
        {
          "output_type": "stream",
          "name": "stdout",
          "text": [
            "(3, 7, 4)\n"
          ]
        }
      ]
    },
    {
      "cell_type": "code",
      "source": [
        "print(z[-4:-1])"
      ],
      "metadata": {
        "colab": {
          "base_uri": "https://localhost:8080/"
        },
        "id": "an5JAvsrJqCN",
        "outputId": "32e4629f-ea11-4858-f2cc-3a6ab61119d3"
      },
      "execution_count": 12,
      "outputs": [
        {
          "output_type": "stream",
          "name": "stdout",
          "text": [
            "(3, 7, 4)\n"
          ]
        }
      ]
    },
    {
      "cell_type": "code",
      "source": [
        "z = (3, 7, 4, 2)\n",
        "z[1] = \"fish\"\n"
      ],
      "metadata": {
        "colab": {
          "base_uri": "https://localhost:8080/",
          "height": 183
        },
        "id": "MuIs-eB5JtD2",
        "outputId": "91b42065-4ff8-42e4-c442-005b9ddb17ec"
      },
      "execution_count": 13,
      "outputs": [
        {
          "output_type": "error",
          "ename": "TypeError",
          "evalue": "ignored",
          "traceback": [
            "\u001b[0;31m---------------------------------------------------------------------------\u001b[0m",
            "\u001b[0;31mTypeError\u001b[0m                                 Traceback (most recent call last)",
            "\u001b[0;32m<ipython-input-13-a0bc6dc0395b>\u001b[0m in \u001b[0;36m<module>\u001b[0;34m()\u001b[0m\n\u001b[1;32m      1\u001b[0m \u001b[0mz\u001b[0m \u001b[0;34m=\u001b[0m \u001b[0;34m(\u001b[0m\u001b[0;36m3\u001b[0m\u001b[0;34m,\u001b[0m \u001b[0;36m7\u001b[0m\u001b[0;34m,\u001b[0m \u001b[0;36m4\u001b[0m\u001b[0;34m,\u001b[0m \u001b[0;36m2\u001b[0m\u001b[0;34m)\u001b[0m\u001b[0;34m\u001b[0m\u001b[0;34m\u001b[0m\u001b[0m\n\u001b[0;32m----> 2\u001b[0;31m \u001b[0mz\u001b[0m\u001b[0;34m[\u001b[0m\u001b[0;36m1\u001b[0m\u001b[0;34m]\u001b[0m \u001b[0;34m=\u001b[0m \u001b[0;34m\"fish\"\u001b[0m\u001b[0;34m\u001b[0m\u001b[0;34m\u001b[0m\u001b[0m\n\u001b[0m",
            "\u001b[0;31mTypeError\u001b[0m: 'tuple' object does not support item assignment"
          ]
        }
      ]
    },
    {
      "cell_type": "code",
      "source": [
        "tup1 = ('Python', 'SQL')\n",
        "tup2 = ('R',)\n",
        "new_tuple = tup1 + tup2;\n",
        "print(new_tuple)\n"
      ],
      "metadata": {
        "colab": {
          "base_uri": "https://localhost:8080/"
        },
        "id": "Y4N0hZzLJvpF",
        "outputId": "9d3ae29c-3300-4474-cfe9-11d798f49694"
      },
      "execution_count": 14,
      "outputs": [
        {
          "output_type": "stream",
          "name": "stdout",
          "text": [
            "('Python', 'SQL', 'R')\n"
          ]
        }
      ]
    },
    {
      "cell_type": "code",
      "source": [
        "z = (3, 7, 4, 2)"
      ],
      "metadata": {
        "id": "w_lexR7sJ2dA"
      },
      "execution_count": 15,
      "outputs": []
    },
    {
      "cell_type": "code",
      "source": [
        "a, b, c, d = (3, 7, 4, 2)\n",
        "print(a)\n",
        "print(b)\n",
        "print(c)\n",
        "print(d)\n"
      ],
      "metadata": {
        "colab": {
          "base_uri": "https://localhost:8080/"
        },
        "id": "Am0aY73xJ9TH",
        "outputId": "6ebde302-3ddf-4020-9057-35634147f729"
      },
      "execution_count": 16,
      "outputs": [
        {
          "output_type": "stream",
          "name": "stdout",
          "text": [
            "3\n",
            "7\n",
            "4\n",
            "2\n"
          ]
        }
      ]
    },
    {
      "cell_type": "code",
      "source": [
        "friends = ('Steve', 'Rachel', 'Michael', 'Monica')\n",
        "for index, friend in enumerate(friends):\n",
        "    print(index,friend)"
      ],
      "metadata": {
        "colab": {
          "base_uri": "https://localhost:8080/"
        },
        "id": "B6k3JfD6KZlH",
        "outputId": "1a9358e9-e57b-4d8c-928c-d3b282ee9b62"
      },
      "execution_count": 18,
      "outputs": [
        {
          "output_type": "stream",
          "name": "stdout",
          "text": [
            "0 Steve\n",
            "1 Rachel\n",
            "2 Michael\n",
            "3 Monica\n"
          ]
        }
      ]
    },
    {
      "cell_type": "code",
      "source": [
        "animals = ('lama', 'sheep', 'lama', 48)"
      ],
      "metadata": {
        "id": "ceMYtN4rKam1"
      },
      "execution_count": 19,
      "outputs": []
    },
    {
      "cell_type": "code",
      "source": [
        "print(animals.index('lama'))"
      ],
      "metadata": {
        "colab": {
          "base_uri": "https://localhost:8080/"
        },
        "id": "UgcrulprKdgz",
        "outputId": "ed53b78f-ddce-4b6b-fc4a-d3d5db8eae7c"
      },
      "execution_count": 20,
      "outputs": [
        {
          "output_type": "stream",
          "name": "stdout",
          "text": [
            "0\n"
          ]
        }
      ]
    },
    {
      "cell_type": "code",
      "source": [
        "print(animals.count('lama'))"
      ],
      "metadata": {
        "colab": {
          "base_uri": "https://localhost:8080/"
        },
        "id": "nx-hSsilKgYs",
        "outputId": "125df191-5bb8-4643-b65d-9344371d138b"
      },
      "execution_count": 21,
      "outputs": [
        {
          "output_type": "stream",
          "name": "stdout",
          "text": [
            "2\n"
          ]
        }
      ]
    },
    {
      "cell_type": "markdown",
      "source": [
        "Optional - Advantages of Tuples over Lists"
      ],
      "metadata": {
        "id": "0Us0GZpPKl_9"
      }
    },
    {
      "cell_type": "code",
      "source": [
        "import timeit \n",
        "print(timeit.timeit('x=(1,2,3,4,5,6,7,8,9,10,11,12)', number=1000000))\n",
        "print(timeit.timeit('x=[1,2,3,4,5,6,7,8,9,10,11,12]', number=1000000))"
      ],
      "metadata": {
        "colab": {
          "base_uri": "https://localhost:8080/"
        },
        "id": "Yiel-sF7KiX-",
        "outputId": "3c806010-66a1-4f43-e5eb-d58f3933f583"
      },
      "execution_count": 22,
      "outputs": [
        {
          "output_type": "stream",
          "name": "stdout",
          "text": [
            "0.032003335999888805\n",
            "0.13593865200004984\n"
          ]
        }
      ]
    },
    {
      "cell_type": "markdown",
      "source": [
        "Dictionaries"
      ],
      "metadata": {
        "id": "zAqgF3syKwZQ"
      }
    },
    {
      "cell_type": "code",
      "source": [
        "webstersDict = {'person': 'a human being',\n",
        "               'marathon': 'a running race that is about 26 miles',\n",
        "               'resist': 'to remain strong against the force',\n",
        "               'run': 'to move with haste; act quickly'}"
      ],
      "metadata": {
        "id": "5S7RsgzoKrz3"
      },
      "execution_count": 23,
      "outputs": []
    },
    {
      "cell_type": "code",
      "source": [
        "webstersDict = {(1, 2.0): 'tuples can be keys',\n",
        "               1: 'ints can be keys',\n",
        "              'run': 'strings can be keys', \n",
        "              ['sock', 1, 2.0]: 'lists can NOT be keys'}"
      ],
      "metadata": {
        "colab": {
          "base_uri": "https://localhost:8080/",
          "height": 201
        },
        "id": "CcBYvRIRK2uZ",
        "outputId": "f26ba24a-e082-4234-acf0-5731aacb8f8a"
      },
      "execution_count": 24,
      "outputs": [
        {
          "output_type": "error",
          "ename": "TypeError",
          "evalue": "ignored",
          "traceback": [
            "\u001b[0;31m---------------------------------------------------------------------------\u001b[0m",
            "\u001b[0;31mTypeError\u001b[0m                                 Traceback (most recent call last)",
            "\u001b[0;32m<ipython-input-24-f08f61db460c>\u001b[0m in \u001b[0;36m<module>\u001b[0;34m()\u001b[0m\n\u001b[1;32m      2\u001b[0m                \u001b[0;36m1\u001b[0m\u001b[0;34m:\u001b[0m \u001b[0;34m'ints can be keys'\u001b[0m\u001b[0;34m,\u001b[0m\u001b[0;34m\u001b[0m\u001b[0;34m\u001b[0m\u001b[0m\n\u001b[1;32m      3\u001b[0m               \u001b[0;34m'run'\u001b[0m\u001b[0;34m:\u001b[0m \u001b[0;34m'strings can be keys'\u001b[0m\u001b[0;34m,\u001b[0m\u001b[0;34m\u001b[0m\u001b[0;34m\u001b[0m\u001b[0m\n\u001b[0;32m----> 4\u001b[0;31m               ['sock', 1, 2.0]: 'lists can NOT be keys'}\n\u001b[0m",
            "\u001b[0;31mTypeError\u001b[0m: unhashable type: 'list'"
          ]
        }
      ]
    },
    {
      "cell_type": "code",
      "source": [
        "webstersDict['marathon']"
      ],
      "metadata": {
        "colab": {
          "base_uri": "https://localhost:8080/",
          "height": 35
        },
        "id": "junbwgweK5oY",
        "outputId": "5d805f80-e745-4325-8a98-b8c4d6e31a89"
      },
      "execution_count": 25,
      "outputs": [
        {
          "output_type": "execute_result",
          "data": {
            "text/plain": [
              "'a running race that is about 26 miles'"
            ],
            "application/vnd.google.colaboratory.intrinsic+json": {
              "type": "string"
            }
          },
          "metadata": {},
          "execution_count": 25
        }
      ]
    },
    {
      "cell_type": "code",
      "source": [
        "webstersDict['socks']"
      ],
      "metadata": {
        "colab": {
          "base_uri": "https://localhost:8080/",
          "height": 166
        },
        "id": "3AZJHGE_K8oW",
        "outputId": "5bcfc493-b878-4dce-9943-adeeb6330b72"
      },
      "execution_count": 26,
      "outputs": [
        {
          "output_type": "error",
          "ename": "KeyError",
          "evalue": "ignored",
          "traceback": [
            "\u001b[0;31m---------------------------------------------------------------------------\u001b[0m",
            "\u001b[0;31mKeyError\u001b[0m                                  Traceback (most recent call last)",
            "\u001b[0;32m<ipython-input-26-32dc27db71a2>\u001b[0m in \u001b[0;36m<module>\u001b[0;34m()\u001b[0m\n\u001b[0;32m----> 1\u001b[0;31m \u001b[0mwebstersDict\u001b[0m\u001b[0;34m[\u001b[0m\u001b[0;34m'socks'\u001b[0m\u001b[0;34m]\u001b[0m\u001b[0;34m\u001b[0m\u001b[0;34m\u001b[0m\u001b[0m\n\u001b[0m",
            "\u001b[0;31mKeyError\u001b[0m: 'socks'"
          ]
        }
      ]
    },
    {
      "cell_type": "code",
      "source": [
        "webstersDict['shoe'] = 'an external covering for the human foot'\n",
        "webstersDict"
      ],
      "metadata": {
        "colab": {
          "base_uri": "https://localhost:8080/"
        },
        "id": "xt2Qh2nFK-1y",
        "outputId": "0a008d83-fe58-4f44-aa9b-7b66bb11f170"
      },
      "execution_count": 27,
      "outputs": [
        {
          "output_type": "execute_result",
          "data": {
            "text/plain": [
              "{'marathon': 'a running race that is about 26 miles',\n",
              " 'person': 'a human being',\n",
              " 'resist': 'to remain strong against the force',\n",
              " 'run': 'to move with haste; act quickly',\n",
              " 'shoe': 'an external covering for the human foot'}"
            ]
          },
          "metadata": {},
          "execution_count": 27
        }
      ]
    },
    {
      "cell_type": "code",
      "source": [
        "webstersDict['marathon'] = '26 mile race'\n",
        "webstersDict"
      ],
      "metadata": {
        "colab": {
          "base_uri": "https://localhost:8080/"
        },
        "id": "LszXvsBNLCTo",
        "outputId": "819a5eee-4c82-4b71-e18c-ac6eee26b5d3"
      },
      "execution_count": 28,
      "outputs": [
        {
          "output_type": "execute_result",
          "data": {
            "text/plain": [
              "{'marathon': '26 mile race',\n",
              " 'person': 'a human being',\n",
              " 'resist': 'to remain strong against the force',\n",
              " 'run': 'to move with haste; act quickly',\n",
              " 'shoe': 'an external covering for the human foot'}"
            ]
          },
          "metadata": {},
          "execution_count": 28
        }
      ]
    },
    {
      "cell_type": "code",
      "source": [
        "webstersDict['marathon'] = '26 mile race'\n",
        "webstersDict"
      ],
      "metadata": {
        "colab": {
          "base_uri": "https://localhost:8080/"
        },
        "id": "_Qw9NPLfLEe3",
        "outputId": "cb55968e-d106-48ec-8e38-7a8ed178187b"
      },
      "execution_count": 29,
      "outputs": [
        {
          "output_type": "execute_result",
          "data": {
            "text/plain": [
              "{'marathon': '26 mile race',\n",
              " 'person': 'a human being',\n",
              " 'resist': 'to remain strong against the force',\n",
              " 'run': 'to move with haste; act quickly',\n",
              " 'shoe': 'an external covering for the human foot'}"
            ]
          },
          "metadata": {},
          "execution_count": 29
        }
      ]
    },
    {
      "cell_type": "code",
      "source": [
        "del webstersDict['resist']\n",
        "webstersDict"
      ],
      "metadata": {
        "colab": {
          "base_uri": "https://localhost:8080/"
        },
        "id": "xPK1Aji_LJh1",
        "outputId": "70cc90f2-f9c6-40a8-85b9-e48e389c9cf5"
      },
      "execution_count": 30,
      "outputs": [
        {
          "output_type": "execute_result",
          "data": {
            "text/plain": [
              "{'marathon': '26 mile race',\n",
              " 'person': 'a human being',\n",
              " 'run': 'to move with haste; act quickly',\n",
              " 'shoe': 'an external covering for the human foot'}"
            ]
          },
          "metadata": {},
          "execution_count": 30
        }
      ]
    },
    {
      "cell_type": "code",
      "source": [
        "webstersDict"
      ],
      "metadata": {
        "colab": {
          "base_uri": "https://localhost:8080/"
        },
        "id": "7RZuo-RALPd4",
        "outputId": "c62ef63d-6143-447c-f897-33a3160ea2bc"
      },
      "execution_count": 31,
      "outputs": [
        {
          "output_type": "execute_result",
          "data": {
            "text/plain": [
              "{'marathon': '26 mile race',\n",
              " 'person': 'a human being',\n",
              " 'run': 'to move with haste; act quickly',\n",
              " 'shoe': 'an external covering for the human foot'}"
            ]
          },
          "metadata": {},
          "execution_count": 31
        }
      ]
    },
    {
      "cell_type": "code",
      "source": [
        "webstersDict.update({'ran': 'past tense of run',\n",
        "                     'shoes': 'plural of shoe'})\n",
        "webstersDict"
      ],
      "metadata": {
        "colab": {
          "base_uri": "https://localhost:8080/"
        },
        "id": "7Jxz6AU-LSsI",
        "outputId": "0ff0e1c2-bd8e-40ae-936d-1135d19a9bfa"
      },
      "execution_count": 32,
      "outputs": [
        {
          "output_type": "execute_result",
          "data": {
            "text/plain": [
              "{'marathon': '26 mile race',\n",
              " 'person': 'a human being',\n",
              " 'ran': 'past tense of run',\n",
              " 'run': 'to move with haste; act quickly',\n",
              " 'shoe': 'an external covering for the human foot',\n",
              " 'shoes': 'plural of shoe'}"
            ]
          },
          "metadata": {},
          "execution_count": 32
        }
      ]
    },
    {
      "cell_type": "code",
      "source": [
        "storyCount = {'is': 100,\n",
        "              'the': 90,\n",
        "              'Michael': 12,\n",
        "              'runs': 5}\n",
        "# Since the key 'Michael' exists, it will return the value 12\n",
        "storyCount.get('Michael')"
      ],
      "metadata": {
        "colab": {
          "base_uri": "https://localhost:8080/"
        },
        "id": "PEOGOAIjLWA5",
        "outputId": "21053856-8290-4c8f-9709-f56c2942547e"
      },
      "execution_count": 33,
      "outputs": [
        {
          "output_type": "execute_result",
          "data": {
            "text/plain": [
              "12"
            ]
          },
          "metadata": {},
          "execution_count": 33
        }
      ]
    },
    {
      "cell_type": "code",
      "source": [
        "print(storyCount.get('chicken'))"
      ],
      "metadata": {
        "colab": {
          "base_uri": "https://localhost:8080/"
        },
        "id": "5XtXdNXPLZKm",
        "outputId": "4597dcf2-9c26-4fa9-996f-81e5a5b9d121"
      },
      "execution_count": 34,
      "outputs": [
        {
          "output_type": "stream",
          "name": "stdout",
          "text": [
            "None\n"
          ]
        }
      ]
    },
    {
      "cell_type": "code",
      "source": [
        "print(storyCount.get('chicken', 0) )"
      ],
      "metadata": {
        "colab": {
          "base_uri": "https://localhost:8080/"
        },
        "id": "i5S6mf8aLeHO",
        "outputId": "5b63d3c8-351f-4d02-cfcd-89d61754363d"
      },
      "execution_count": 35,
      "outputs": [
        {
          "output_type": "stream",
          "name": "stdout",
          "text": [
            "0\n"
          ]
        }
      ]
    },
    {
      "cell_type": "code",
      "source": [
        "storyCount"
      ],
      "metadata": {
        "colab": {
          "base_uri": "https://localhost:8080/"
        },
        "id": "vC9EIwvLLlzj",
        "outputId": "bc972bd3-2852-45f0-fff5-9a5409de6d26"
      },
      "execution_count": 36,
      "outputs": [
        {
          "output_type": "execute_result",
          "data": {
            "text/plain": [
              "{'Michael': 12, 'is': 100, 'runs': 5, 'the': 90}"
            ]
          },
          "metadata": {},
          "execution_count": 36
        }
      ]
    },
    {
      "cell_type": "code",
      "source": [
        "storyCount.pop('the')"
      ],
      "metadata": {
        "colab": {
          "base_uri": "https://localhost:8080/"
        },
        "id": "C7QfXWWjLoHj",
        "outputId": "c4e758d8-b7d2-4531-9719-33886f9c2cf1"
      },
      "execution_count": 37,
      "outputs": [
        {
          "output_type": "execute_result",
          "data": {
            "text/plain": [
              "90"
            ]
          },
          "metadata": {},
          "execution_count": 37
        }
      ]
    },
    {
      "cell_type": "code",
      "source": [
        "storyCount"
      ],
      "metadata": {
        "colab": {
          "base_uri": "https://localhost:8080/"
        },
        "id": "kn8FVwa2Lr-Y",
        "outputId": "1a1a003c-f05b-4c91-c2a7-516e2c45ba52"
      },
      "execution_count": 38,
      "outputs": [
        {
          "output_type": "execute_result",
          "data": {
            "text/plain": [
              "{'Michael': 12, 'is': 100, 'runs': 5}"
            ]
          },
          "metadata": {},
          "execution_count": 38
        }
      ]
    },
    {
      "cell_type": "code",
      "source": [
        "type(storyCount.keys())"
      ],
      "metadata": {
        "colab": {
          "base_uri": "https://localhost:8080/"
        },
        "id": "9QNsRR6pLuJA",
        "outputId": "87f54e5e-c7c5-491e-c5d0-3eb1f7bd9676"
      },
      "execution_count": 39,
      "outputs": [
        {
          "output_type": "execute_result",
          "data": {
            "text/plain": [
              "dict_keys"
            ]
          },
          "metadata": {},
          "execution_count": 39
        }
      ]
    },
    {
      "cell_type": "code",
      "source": [
        "key_list = list(storyCount.keys() )"
      ],
      "metadata": {
        "id": "qON4AX0tLxYS"
      },
      "execution_count": 40,
      "outputs": []
    },
    {
      "cell_type": "code",
      "source": [
        "key_list"
      ],
      "metadata": {
        "colab": {
          "base_uri": "https://localhost:8080/"
        },
        "id": "NqpME91pL0bf",
        "outputId": "66bf2324-4cce-4000-8115-e80ce689295a"
      },
      "execution_count": 41,
      "outputs": [
        {
          "output_type": "execute_result",
          "data": {
            "text/plain": [
              "['is', 'Michael', 'runs']"
            ]
          },
          "metadata": {},
          "execution_count": 41
        }
      ]
    },
    {
      "cell_type": "code",
      "source": [
        "storyCount.values()"
      ],
      "metadata": {
        "colab": {
          "base_uri": "https://localhost:8080/"
        },
        "id": "I4aqETxrL2ay",
        "outputId": "0deae307-f852-443e-dfe6-fec990e120a2"
      },
      "execution_count": 42,
      "outputs": [
        {
          "output_type": "execute_result",
          "data": {
            "text/plain": [
              "dict_values([100, 12, 5])"
            ]
          },
          "metadata": {},
          "execution_count": 42
        }
      ]
    },
    {
      "cell_type": "code",
      "source": [
        "list(webstersDict.items() )"
      ],
      "metadata": {
        "colab": {
          "base_uri": "https://localhost:8080/"
        },
        "id": "rU4SoeWGL5YW",
        "outputId": "077096f9-8c27-45eb-d795-038aede62427"
      },
      "execution_count": 43,
      "outputs": [
        {
          "output_type": "execute_result",
          "data": {
            "text/plain": [
              "[('person', 'a human being'),\n",
              " ('marathon', '26 mile race'),\n",
              " ('run', 'to move with haste; act quickly'),\n",
              " ('shoe', 'an external covering for the human foot'),\n",
              " ('ran', 'past tense of run'),\n",
              " ('shoes', 'plural of shoe')]"
            ]
          },
          "metadata": {},
          "execution_count": 43
        }
      ]
    },
    {
      "cell_type": "markdown",
      "source": [
        "For Loops"
      ],
      "metadata": {
        "id": "U4gJX0tYMA3U"
      }
    },
    {
      "cell_type": "code",
      "source": [
        "myName = \"Karen\"\n",
        "for x in myName:\n",
        "    print(x)\n"
      ],
      "metadata": {
        "colab": {
          "base_uri": "https://localhost:8080/"
        },
        "id": "2yWE2t31L7wz",
        "outputId": "f5ff816a-f5c8-4a25-a27a-1b9c8c7656d6"
      },
      "execution_count": 44,
      "outputs": [
        {
          "output_type": "stream",
          "name": "stdout",
          "text": [
            "K\n",
            "a\n",
            "r\n",
            "e\n",
            "n\n"
          ]
        }
      ]
    },
    {
      "cell_type": "code",
      "source": [
        "list(range(0,10))"
      ],
      "metadata": {
        "colab": {
          "base_uri": "https://localhost:8080/"
        },
        "id": "EUeOO9trMJsM",
        "outputId": "2c300a59-3675-43cd-fada-12b814d57679"
      },
      "execution_count": 45,
      "outputs": [
        {
          "output_type": "execute_result",
          "data": {
            "text/plain": [
              "[0, 1, 2, 3, 4, 5, 6, 7, 8, 9]"
            ]
          },
          "metadata": {},
          "execution_count": 45
        }
      ]
    },
    {
      "cell_type": "code",
      "source": [
        "dataScienceTools = ['Python', 'R', 'SQL', 'Git']\n",
        "for i in range(len(dataScienceTools)):\n",
        "    print(dataScienceTools[i])"
      ],
      "metadata": {
        "colab": {
          "base_uri": "https://localhost:8080/"
        },
        "id": "jsFxwfEtMMYd",
        "outputId": "841c5731-cef5-463c-874d-7ec91a7365ec"
      },
      "execution_count": 46,
      "outputs": [
        {
          "output_type": "stream",
          "name": "stdout",
          "text": [
            "Python\n",
            "R\n",
            "SQL\n",
            "Git\n"
          ]
        }
      ]
    },
    {
      "cell_type": "code",
      "source": [
        "dataScienceTools = ['Python', 'R', 'SQL', 'Git']\n",
        "for index, tool in enumerate(dataScienceTools):\n",
        "    print(index,tool)"
      ],
      "metadata": {
        "colab": {
          "base_uri": "https://localhost:8080/"
        },
        "id": "eE2fMbmtMPXN",
        "outputId": "b8fb2828-b352-4958-cb6d-f9cd2003054a"
      },
      "execution_count": 47,
      "outputs": [
        {
          "output_type": "stream",
          "name": "stdout",
          "text": [
            "0 Python\n",
            "1 R\n",
            "2 SQL\n",
            "3 Git\n"
          ]
        }
      ]
    },
    {
      "cell_type": "code",
      "source": [
        ""
      ],
      "metadata": {
        "id": "bR7jIMvzMUjl"
      },
      "execution_count": null,
      "outputs": []
    }
  ]
}
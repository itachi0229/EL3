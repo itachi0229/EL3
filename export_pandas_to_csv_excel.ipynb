{
  "nbformat": 4,
  "nbformat_minor": 0,
  "metadata": {
    "colab": {
      "name": "export pandas to csv/excel.ipynb",
      "provenance": [],
      "authorship_tag": "ABX9TyOdrPKVVMbXYQ9ZYxCbbUee",
      "include_colab_link": true
    },
    "kernelspec": {
      "name": "python3",
      "display_name": "Python 3"
    },
    "language_info": {
      "name": "python"
    }
  },
  "cells": [
    {
      "cell_type": "markdown",
      "metadata": {
        "id": "view-in-github",
        "colab_type": "text"
      },
      "source": [
        "<a href=\"https://colab.research.google.com/github/itachi0229/EL3/blob/main/export_pandas_to_csv_excel.ipynb\" target=\"_parent\"><img src=\"https://colab.research.google.com/assets/colab-badge.svg\" alt=\"Open In Colab\"/></a>"
      ]
    },
    {
      "cell_type": "markdown",
      "source": [
        "KAREN MACALINO"
      ],
      "metadata": {
        "id": "w9bLEt1v7jTl"
      }
    },
    {
      "cell_type": "code",
      "source": [
        "from google.colab import drive\n",
        "drive.mount('/content/drive')"
      ],
      "metadata": {
        "colab": {
          "base_uri": "https://localhost:8080/"
        },
        "id": "msTL6oeP7k1p",
        "outputId": "313cafd0-84ff-41fd-b139-427d8aa4b5a5"
      },
      "execution_count": 3,
      "outputs": [
        {
          "output_type": "stream",
          "name": "stdout",
          "text": [
            "Mounted at /content/drive\n"
          ]
        }
      ]
    },
    {
      "cell_type": "code",
      "source": [
        "import pandas as pd"
      ],
      "metadata": {
        "id": "f8FeAiX27ww2"
      },
      "execution_count": 4,
      "outputs": []
    },
    {
      "cell_type": "code",
      "source": [
        "filename = '/content/mortgages.csv'\n",
        "df = pd.read_csv(filename)"
      ],
      "metadata": {
        "id": "0x6ie267772b"
      },
      "execution_count": 5,
      "outputs": []
    },
    {
      "cell_type": "code",
      "source": [
        "mortgage_filter = df['Mortgage Name']=='30 Year'\n",
        "interest_filter = df['Interest Rate']==0.03\n",
        "df = df.loc[mortgage_filter & interest_filter, :]"
      ],
      "metadata": {
        "id": "hpuYeJIe8GMs"
      },
      "execution_count": 6,
      "outputs": []
    },
    {
      "cell_type": "code",
      "source": [
        "df.to_csv(path_or_buf='oneMortgage.csv',index = False)\n",
        "df.to_excel(excel_writer='oneMortgage.xlsx',index=False)"
      ],
      "metadata": {
        "id": "3dc2CVSg8J87"
      },
      "execution_count": 8,
      "outputs": []
    },
    {
      "cell_type": "code",
      "source": [
        ""
      ],
      "metadata": {
        "id": "lcuwog3k8M3n"
      },
      "execution_count": null,
      "outputs": []
    }
  ]
}
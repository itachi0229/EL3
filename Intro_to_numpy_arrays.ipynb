{
  "nbformat": 4,
  "nbformat_minor": 0,
  "metadata": {
    "colab": {
      "name": "Intro to numpy arrays.ipynb",
      "provenance": [],
      "collapsed_sections": [],
      "authorship_tag": "ABX9TyPNXMDqXhXhrUujUs3TS9pe",
      "include_colab_link": true
    },
    "kernelspec": {
      "name": "python3",
      "display_name": "Python 3"
    },
    "language_info": {
      "name": "python"
    }
  },
  "cells": [
    {
      "cell_type": "markdown",
      "metadata": {
        "id": "view-in-github",
        "colab_type": "text"
      },
      "source": [
        "<a href=\"https://colab.research.google.com/github/itachi0229/EL3/blob/main/Intro_to_numpy_arrays.ipynb\" target=\"_parent\"><img src=\"https://colab.research.google.com/assets/colab-badge.svg\" alt=\"Open In Colab\"/></a>"
      ]
    },
    {
      "cell_type": "code",
      "execution_count": null,
      "metadata": {
        "colab": {
          "base_uri": "https://localhost:8080/"
        },
        "id": "w0K_IgRwnYPT",
        "outputId": "bce054ef-b91e-43e9-ae16-41c7cb65a94f"
      },
      "outputs": [
        {
          "output_type": "execute_result",
          "data": {
            "text/plain": [
              "list"
            ]
          },
          "metadata": {},
          "execution_count": 1
        }
      ],
      "source": [
        "price=[2,1,10]\n",
        "type(price)"
      ]
    },
    {
      "cell_type": "code",
      "source": [
        "quantity_sold=[17,40,1]\n",
        "type(quantity_sold)"
      ],
      "metadata": {
        "colab": {
          "base_uri": "https://localhost:8080/"
        },
        "id": "AYJBqgFEnzOB",
        "outputId": "ad0e9268-5646-4f71-f716-719e705018d9"
      },
      "execution_count": null,
      "outputs": [
        {
          "output_type": "execute_result",
          "data": {
            "text/plain": [
              "list"
            ]
          },
          "metadata": {},
          "execution_count": 3
        }
      ]
    },
    {
      "cell_type": "code",
      "source": [
        "price * quantity_sold"
      ],
      "metadata": {
        "colab": {
          "base_uri": "https://localhost:8080/",
          "height": 166
        },
        "id": "dWflGxlQk8aw",
        "outputId": "9960fc34-ec94-4e00-8d02-49dcc989bce6"
      },
      "execution_count": 13,
      "outputs": [
        {
          "output_type": "error",
          "ename": "TypeError",
          "evalue": "ignored",
          "traceback": [
            "\u001b[0;31m---------------------------------------------------------------------------\u001b[0m",
            "\u001b[0;31mTypeError\u001b[0m                                 Traceback (most recent call last)",
            "\u001b[0;32m<ipython-input-13-c1bd595c74e8>\u001b[0m in \u001b[0;36m<module>\u001b[0;34m()\u001b[0m\n\u001b[0;32m----> 1\u001b[0;31m \u001b[0mprice\u001b[0m \u001b[0;34m*\u001b[0m \u001b[0mquantity_sold\u001b[0m\u001b[0;34m\u001b[0m\u001b[0;34m\u001b[0m\u001b[0m\n\u001b[0m",
            "\u001b[0;31mTypeError\u001b[0m: can't multiply sequence by non-int of type 'list'"
          ]
        }
      ]
    },
    {
      "cell_type": "code",
      "source": [
        "import numpy as np\n"
      ],
      "metadata": {
        "id": "qt3VO7S-n-j-"
      },
      "execution_count": null,
      "outputs": []
    },
    {
      "cell_type": "code",
      "source": [
        "price_array=np.array(price)\n",
        "quantity_sold_array=np.array(quantity_sold)\n",
        "type(price_array)"
      ],
      "metadata": {
        "colab": {
          "base_uri": "https://localhost:8080/"
        },
        "id": "rx8qK_tSoIwB",
        "outputId": "1f5ea779-fed4-49e5-8e45-c2ae8c554b59"
      },
      "execution_count": null,
      "outputs": [
        {
          "output_type": "execute_result",
          "data": {
            "text/plain": [
              "numpy.ndarray"
            ]
          },
          "metadata": {},
          "execution_count": 11
        }
      ]
    },
    {
      "cell_type": "code",
      "source": [
        "price_array* quantity_sold_array"
      ],
      "metadata": {
        "colab": {
          "base_uri": "https://localhost:8080/"
        },
        "id": "RNWh8hw-q0US",
        "outputId": "02cb7fba-7f35-4bc4-cd43-59adfb769a00"
      },
      "execution_count": null,
      "outputs": [
        {
          "output_type": "execute_result",
          "data": {
            "text/plain": [
              "array([34, 40, 10])"
            ]
          },
          "metadata": {},
          "execution_count": 13
        }
      ]
    },
    {
      "cell_type": "code",
      "source": [
        "cost array=np.array([0.25,0.50,5.00])"
      ],
      "metadata": {
        "id": "PDQKx2wMrB0B",
        "colab": {
          "base_uri": "https://localhost:8080/",
          "height": 131
        },
        "outputId": "41d5c94d-9f37-41fd-b957-9fd55bbccf29"
      },
      "execution_count": 3,
      "outputs": [
        {
          "output_type": "error",
          "ename": "SyntaxError",
          "evalue": "ignored",
          "traceback": [
            "\u001b[0;36m  File \u001b[0;32m\"<ipython-input-3-8f5ce31a4a93>\"\u001b[0;36m, line \u001b[0;32m1\u001b[0m\n\u001b[0;31m    cost array=np.array([0.25,0.50,5.00])\u001b[0m\n\u001b[0m             ^\u001b[0m\n\u001b[0;31mSyntaxError\u001b[0m\u001b[0;31m:\u001b[0m invalid syntax\n"
          ]
        }
      ]
    },
    {
      "cell_type": "code",
      "source": [
        "profit_array=price_array-cost_array\n",
        "print(profit_array)"
      ],
      "metadata": {
        "colab": {
          "base_uri": "https://localhost:8080/"
        },
        "id": "tpJn7Qk1rftZ",
        "outputId": "5b794d31-6d21-4ec8-f333-f528108d0ae3"
      },
      "execution_count": null,
      "outputs": [
        {
          "output_type": "stream",
          "name": "stdout",
          "text": [
            "[1.75 0.5  5.  ]\n"
          ]
        }
      ]
    },
    {
      "cell_type": "code",
      "source": [
        "profit_array>2.00"
      ],
      "metadata": {
        "colab": {
          "base_uri": "https://localhost:8080/"
        },
        "id": "yObQnXTHrtpl",
        "outputId": "ffe5ad14-6a2b-485b-ec02-316356b84c0e"
      },
      "execution_count": null,
      "outputs": [
        {
          "output_type": "execute_result",
          "data": {
            "text/plain": [
              "array([False, False,  True])"
            ]
          },
          "metadata": {},
          "execution_count": 16
        }
      ]
    },
    {
      "cell_type": "code",
      "source": [
        "price_array=price_array+[7]\n",
        "print(price_array)"
      ],
      "metadata": {
        "colab": {
          "base_uri": "https://localhost:8080/"
        },
        "id": "64WV7rAWr3lO",
        "outputId": "6a11916f-9dd6-448c-9a23-24b0ef6ee69d"
      },
      "execution_count": null,
      "outputs": [
        {
          "output_type": "stream",
          "name": "stdout",
          "text": [
            "[ 9  8 17]\n"
          ]
        }
      ]
    },
    {
      "cell_type": "code",
      "source": [
        "\n",
        "price_array=price_array-[7]\n",
        "\n",
        "price_array=np.append(price_array,7)\n",
        "print(price_array)"
      ],
      "metadata": {
        "colab": {
          "base_uri": "https://localhost:8080/"
        },
        "id": "cZ7cjFqJsETB",
        "outputId": "67e2c913-d95c-43e1-ed5e-326328e2a692"
      },
      "execution_count": null,
      "outputs": [
        {
          "output_type": "stream",
          "name": "stdout",
          "text": [
            "[ 2  1 10  7]\n"
          ]
        }
      ]
    },
    {
      "cell_type": "code",
      "source": [
        "price_array=np.append(price_array,[4.50,3,4,9])\n",
        "print(price_array)"
      ],
      "metadata": {
        "colab": {
          "base_uri": "https://localhost:8080/"
        },
        "id": "qNaOYZqKsjUt",
        "outputId": "0a924258-01f1-4bac-c35d-53484d715e73"
      },
      "execution_count": null,
      "outputs": [
        {
          "output_type": "stream",
          "name": "stdout",
          "text": [
            "[ 2.   1.  10.   7.   4.5  3.   4.   9. ]\n"
          ]
        }
      ]
    },
    {
      "cell_type": "code",
      "source": [
        "print(price_array.dtype)"
      ],
      "metadata": {
        "colab": {
          "base_uri": "https://localhost:8080/"
        },
        "id": "Fh60UCJvtOHB",
        "outputId": "4478c147-2263-474e-a850-0dee147c6fdc"
      },
      "execution_count": null,
      "outputs": [
        {
          "output_type": "stream",
          "name": "stdout",
          "text": [
            "float64\n"
          ]
        }
      ]
    },
    {
      "cell_type": "code",
      "source": [
        "price_array=np.delete(price_array,-1)\n",
        "print(price_array)"
      ],
      "metadata": {
        "colab": {
          "base_uri": "https://localhost:8080/"
        },
        "id": "4rTIStpEtYqK",
        "outputId": "45b051b1-d465-423e-b058-905095b77658"
      },
      "execution_count": null,
      "outputs": [
        {
          "output_type": "stream",
          "name": "stdout",
          "text": [
            "[ 2.   1.  10.   7.   4.5  3.   4. ]\n"
          ]
        }
      ]
    },
    {
      "cell_type": "code",
      "source": [
        "price_array[2]=12"
      ],
      "metadata": {
        "id": "63-M0bVJtk2w"
      },
      "execution_count": null,
      "outputs": []
    },
    {
      "cell_type": "code",
      "source": [
        "print(price_array)"
      ],
      "metadata": {
        "colab": {
          "base_uri": "https://localhost:8080/"
        },
        "id": "enRk2tyTttMC",
        "outputId": "b0da40a0-9d9c-4d05-cbe7-dbc71615c63c"
      },
      "execution_count": null,
      "outputs": [
        {
          "output_type": "stream",
          "name": "stdout",
          "text": [
            "[ 2.   1.  12.   7.   4.5  3.   4. ]\n"
          ]
        }
      ]
    },
    {
      "cell_type": "markdown",
      "source": [
        "Bakery Numpy Exercise"
      ],
      "metadata": {
        "id": "rPhj-v6szsKB"
      }
    },
    {
      "cell_type": "code",
      "source": [
        "price = [2, 1, 10]\n",
        "type(price)"
      ],
      "metadata": {
        "colab": {
          "base_uri": "https://localhost:8080/"
        },
        "id": "gJOjxyo6t3so",
        "outputId": "f67dea13-225e-481f-c047-10143586d33e"
      },
      "execution_count": 4,
      "outputs": [
        {
          "output_type": "execute_result",
          "data": {
            "text/plain": [
              "list"
            ]
          },
          "metadata": {},
          "execution_count": 4
        }
      ]
    },
    {
      "cell_type": "code",
      "source": [
        "quantity_sold = [17, 40, 1]\n",
        "type(quantity_sold)"
      ],
      "metadata": {
        "id": "jkS8qE4G0JRg",
        "colab": {
          "base_uri": "https://localhost:8080/"
        },
        "outputId": "70474ed7-875f-4e94-a482-2fe30f2479e5"
      },
      "execution_count": 5,
      "outputs": [
        {
          "output_type": "execute_result",
          "data": {
            "text/plain": [
              "list"
            ]
          },
          "metadata": {},
          "execution_count": 5
        }
      ]
    },
    {
      "cell_type": "code",
      "source": [
        "import numpy as np"
      ],
      "metadata": {
        "id": "h1aqGTPfm9lR"
      },
      "execution_count": 8,
      "outputs": []
    },
    {
      "cell_type": "code",
      "source": [
        "price_array = np.array(price)\n",
        "quantity_sold_array = np.array(quantity_sold)\n",
        "type(price_array)\n",
        "type (quantity_sold_array)"
      ],
      "metadata": {
        "id": "1XzdMIvhHReh",
        "colab": {
          "base_uri": "https://localhost:8080/"
        },
        "outputId": "f9b501f0-c6e7-4790-8365-102b4459d834"
      },
      "execution_count": 10,
      "outputs": [
        {
          "output_type": "execute_result",
          "data": {
            "text/plain": [
              "numpy.ndarray"
            ]
          },
          "metadata": {},
          "execution_count": 10
        }
      ]
    },
    {
      "cell_type": "code",
      "source": [
        "price * quantity_sold_array"
      ],
      "metadata": {
        "colab": {
          "base_uri": "https://localhost:8080/"
        },
        "id": "Z6utUe2ImlPJ",
        "outputId": "8681067d-0e43-457a-ce5f-1c440227f0c4"
      },
      "execution_count": 12,
      "outputs": [
        {
          "output_type": "execute_result",
          "data": {
            "text/plain": [
              "array([34, 40, 10])"
            ]
          },
          "metadata": {},
          "execution_count": 12
        }
      ]
    }
  ]
}